{
 "cells": [
  {
   "cell_type": "code",
   "execution_count": 1,
   "metadata": {},
   "outputs": [],
   "source": [
    "import numpy as np\n",
    "import pandas as pd\n",
    "\n",
    "import matplotlib.pyplot as plt"
   ]
  },
  {
   "cell_type": "code",
   "execution_count": 43,
   "metadata": {},
   "outputs": [],
   "source": [
    "diabetes = pd.read_csv('pima_indians_diabetes.csv')\n",
    "sonar = pd.read_csv('sonar.csv')\n",
    "ionosphere = pd.read_csv('ionosphere.csv')\n",
    "glass = pd.read_csv('glass.csv')\n",
    "data_dict = {'diabetes':(diabetes,(10,5,),30),\n",
    "             'sonar': (sonar,(20,10,), 60),\n",
    "             'glass': (glass, (20,10,), 80),\n",
    "             'ionosphere': (ionosphere,(20,10,),40)}"
   ]
  },
  {
   "cell_type": "code",
   "execution_count": 44,
   "metadata": {},
   "outputs": [],
   "source": [
    "from sklearn.neural_network import MLPClassifier\n",
    "from sklearn.model_selection import cross_val_score, KFold"
   ]
  },
  {
   "cell_type": "code",
   "execution_count": 45,
   "metadata": {},
   "outputs": [],
   "source": [
    "class CustomMLP(MLPClassifier):\n",
    "    def _init_coef(self, fan_in, fan_out):\n",
    "        weights = np.random.uniform(-0.5,0.5,(fan_in,fan_out))\n",
    "        bias = np.ones((fan_out,))\n",
    "        return weights, bias"
   ]
  },
  {
   "cell_type": "code",
   "execution_count": 46,
   "metadata": {},
   "outputs": [],
   "source": [
    "all_errors = {}\n",
    "for key, values in data_dict.items():\n",
    "    data, hidden, epochs = values\n",
    "    classifier = CustomMLP(hidden_layer_sizes=hidden,\n",
    "                           learning_rate_init=0.15,momentum=0.9, nesterovs_momentum=False,\n",
    "                           max_iter=epochs, batch_size=data.shape[0], shuffle=False,\n",
    "                           activation='logistic',solver='sgd',alpha=0.0,\n",
    "                           n_iter_no_change=epochs)\n",
    "    errors = []\n",
    "    for i in range(5):\n",
    "        errors.append(1-cross_val_score(classifier,data.iloc[:,:-1],data.iloc[:,-1],cv=10))\n",
    "    all_errors[key] = errors"
   ]
  },
  {
   "cell_type": "code",
   "execution_count": 42,
   "metadata": {},
   "outputs": [
    {
     "name": "stdout",
     "output_type": "stream",
     "text": [
      "diabetes: 34.99897470950103\n",
      "sonar: 39.71904761904762\n",
      "glass: 33.78787878787878\n",
      "ionosphere: 15.446031746031744\n"
     ]
    },
    {
     "data": {
      "text/plain": [
       "[None, None, None, None]"
      ]
     },
     "execution_count": 42,
     "metadata": {},
     "output_type": "execute_result"
    }
   ],
   "source": [
    "[print(f'{key}: {np.mean(x)*100}') for key,x in all_errors.items()]"
   ]
  },
  {
   "cell_type": "code",
   "execution_count": 47,
   "metadata": {},
   "outputs": [
    {
     "name": "stdout",
     "output_type": "stream",
     "text": [
      "diabetes: 34.89405331510594\n",
      "sonar: 47.0047619047619\n",
      "glass: 31.16017316017316\n",
      "ionosphere: 35.32539682539682\n"
     ]
    },
    {
     "data": {
      "text/plain": [
       "[None, None, None, None]"
      ]
     },
     "execution_count": 47,
     "metadata": {},
     "output_type": "execute_result"
    }
   ],
   "source": [
    "[print(f'{key}: {np.mean(x)*100}') for key,x in all_errors.items()]"
   ]
  },
  {
   "cell_type": "code",
   "execution_count": 29,
   "metadata": {},
   "outputs": [
    {
     "name": "stdout",
     "output_type": "stream",
     "text": [
      "diabetes: [0.3489917976760082, 0.3515721120984279, 0.34637730690362273, 0.35553656869446343, 0.3515721120984279]\n",
      "sonar: [0.6478571428571429, 0.6285714285714286, 0.6283333333333334, 0.6814285714285715, 0.6047619047619047]\n",
      "glass: [0.5318181818181819, 0.36753246753246754, 0.3829004329004329, 0.3926406926406926, 0.4374458874458874]\n",
      "ionosphere: [0.1565079365079365, 0.1907936507936508, 0.19087301587301586, 0.1537301587301587, 0.1938095238095238]\n"
     ]
    }
   ],
   "source": [
    "for key, val in all_errors.items():\n",
    "    print(f'{key}: {[x.mean() for x in val]}')\n"
   ]
  },
  {
   "cell_type": "code",
   "execution_count": 31,
   "metadata": {},
   "outputs": [],
   "source": [
    "from sklearn.ensemble import BaggingClassifier, AdaBoostClassifier"
   ]
  },
  {
   "cell_type": "code",
   "execution_count": 37,
   "metadata": {},
   "outputs": [
    {
     "name": "stdout",
     "output_type": "stream",
     "text": [
      "diabetes: [array([0.2987013 , 0.19480519, 0.27272727, 0.33766234, 0.28571429,\n",
      "       0.23376623, 0.18181818, 0.20779221, 0.26315789, 0.15789474]), array([0.2987013 , 0.19480519, 0.27272727, 0.33766234, 0.28571429,\n",
      "       0.23376623, 0.18181818, 0.20779221, 0.26315789, 0.15789474]), array([0.2987013 , 0.19480519, 0.27272727, 0.33766234, 0.28571429,\n",
      "       0.23376623, 0.18181818, 0.20779221, 0.26315789, 0.15789474]), array([0.2987013 , 0.19480519, 0.27272727, 0.33766234, 0.28571429,\n",
      "       0.23376623, 0.18181818, 0.20779221, 0.26315789, 0.15789474]), array([0.2987013 , 0.19480519, 0.27272727, 0.33766234, 0.28571429,\n",
      "       0.23376623, 0.18181818, 0.20779221, 0.26315789, 0.15789474])]\n",
      "sonar: [array([0.57142857, 0.19047619, 0.14285714, 0.19047619, 0.14285714,\n",
      "       0.23809524, 0.        , 0.33333333, 0.4       , 0.35      ]), array([0.57142857, 0.19047619, 0.14285714, 0.19047619, 0.14285714,\n",
      "       0.23809524, 0.        , 0.33333333, 0.4       , 0.35      ]), array([0.57142857, 0.19047619, 0.14285714, 0.19047619, 0.14285714,\n",
      "       0.23809524, 0.        , 0.33333333, 0.4       , 0.35      ]), array([0.57142857, 0.19047619, 0.14285714, 0.19047619, 0.14285714,\n",
      "       0.23809524, 0.        , 0.33333333, 0.4       , 0.35      ]), array([0.57142857, 0.19047619, 0.14285714, 0.19047619, 0.14285714,\n",
      "       0.23809524, 0.        , 0.33333333, 0.4       , 0.35      ])]\n",
      "glass: [array([0.45454545, 0.18181818, 0.18181818, 0.18181818, 0.19047619,\n",
      "       0.14285714, 0.19047619, 0.19047619, 0.19047619, 0.33333333]), array([0.45454545, 0.18181818, 0.18181818, 0.18181818, 0.19047619,\n",
      "       0.14285714, 0.19047619, 0.19047619, 0.19047619, 0.33333333]), array([0.45454545, 0.18181818, 0.18181818, 0.18181818, 0.19047619,\n",
      "       0.14285714, 0.19047619, 0.19047619, 0.19047619, 0.33333333]), array([0.45454545, 0.18181818, 0.18181818, 0.18181818, 0.19047619,\n",
      "       0.14285714, 0.19047619, 0.19047619, 0.19047619, 0.33333333]), array([0.45454545, 0.18181818, 0.18181818, 0.18181818, 0.19047619,\n",
      "       0.14285714, 0.19047619, 0.19047619, 0.19047619, 0.33333333])]\n",
      "ionosphere: [array([0.02777778, 0.08571429, 0.05714286, 0.14285714, 0.17142857,\n",
      "       0.11428571, 0.14285714, 0.05714286, 0.        , 0.08571429]), array([0.02777778, 0.08571429, 0.05714286, 0.14285714, 0.17142857,\n",
      "       0.11428571, 0.14285714, 0.05714286, 0.        , 0.08571429]), array([0.02777778, 0.08571429, 0.05714286, 0.14285714, 0.17142857,\n",
      "       0.11428571, 0.14285714, 0.05714286, 0.        , 0.08571429]), array([0.02777778, 0.08571429, 0.05714286, 0.14285714, 0.17142857,\n",
      "       0.11428571, 0.14285714, 0.05714286, 0.        , 0.08571429]), array([0.02777778, 0.08571429, 0.05714286, 0.14285714, 0.17142857,\n",
      "       0.11428571, 0.14285714, 0.05714286, 0.        , 0.08571429])]\n"
     ]
    }
   ],
   "source": [
    "import warnings\n",
    "warnings.filterwarnings('ignore')\n",
    "all_errors = {}\n",
    "for key, values in data_dict.items():\n",
    "    data, hidden, epochs = values\n",
    "    classifier = CustomMLP(hidden_layer_sizes=hidden,\n",
    "                           learning_rate_init=0.15,momentum=0.9, nesterovs_momentum=False,\n",
    "                           max_iter=epochs, batch_size=data.shape[0], shuffle=False,\n",
    "                           activation='logistic',solver='sgd',alpha=0.0,\n",
    "                           n_iter_no_change=epochs)\n",
    "    bagger = BaggingClassifier(classifier, n_estimators=25)\n",
    "    booster = AdaBoostClassifier(n_estimators=25)\n",
    "    errors = {'Stan':[], 'Bag':[], 'Ada':[]}\n",
    "    for i in range(5):\n",
    "#         errors['Stan'].append(1-cross_val_score(classifier,data.iloc[:,:-1],data.iloc[:,-1],cv=10))\n",
    "#         errors['Bag'].append(1-cross_val_score(bagger,data.iloc[:,:-1],data.iloc[:,-1],cv=10))\n",
    "        errors['Ada'].append(1-cross_val_score(booster,data.iloc[:,:-1],data.iloc[:,-1],cv=10))\n",
    "    all_errors[key] = errors\n",
    "#     print(f\"{key}: {np.mean(errors['Stan'])}, {np.mean(errors['Bag'])}, {np.mean(errors['Ada'])}\")\n",
    "    print(f\"{key}: {errors['Ada']}\")"
   ]
  },
  {
   "cell_type": "code",
   "execution_count": null,
   "metadata": {},
   "outputs": [],
   "source": []
  }
 ],
 "metadata": {
  "kernelspec": {
   "display_name": "Python 3.7.4 64-bit ('machine_learning': venv)",
   "language": "python",
   "name": "python37464bitmachinelearningvenvc063955b679f4234bbe3c009fbf73fd3"
  },
  "language_info": {
   "codemirror_mode": {
    "name": "ipython",
    "version": 3
   },
   "file_extension": ".py",
   "mimetype": "text/x-python",
   "name": "python",
   "nbconvert_exporter": "python",
   "pygments_lexer": "ipython3",
   "version": "3.7.4"
  }
 },
 "nbformat": 4,
 "nbformat_minor": 2
}
