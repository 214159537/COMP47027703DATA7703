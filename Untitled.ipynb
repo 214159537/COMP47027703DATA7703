{
 "cells": [
  {
   "cell_type": "code",
   "execution_count": 9,
   "metadata": {},
   "outputs": [],
   "source": [
    "# !pip install pomegranate\n",
    "#Import required packages\n",
    "import math\n",
    "from pomegranate import *\n",
    " \n",
    "# Initially the door selected by the guest is completely random\n",
    "IcyRoads = DiscreteDistribution( { 'Yes': 0.7, 'No': 0.3} )\n",
    " \n",
    "# The door containing the prize is also a random process\n",
    "Holmes = ConditionalProbabilityTable([[ 'Yes', 'Crash', 0.4 ],\n",
    "                                      [ 'Yes', 'NoCrash', 0.6 ],\n",
    "                                      [ 'No', 'Crash', 0.1 ],\n",
    "                                      [ 'No', 'NoCrash', 0.9 ]], [IcyRoads])\n",
    " \n",
    "# The door Monty picks, depends on the choice of the guest and the prize door\n",
    "Watson =ConditionalProbabilityTable([[ 'Yes', 'Crash', 0.8 ],\n",
    "                                     [ 'Yes', 'NoCrash', 0.2 ],\n",
    "                                     [ 'No', 'Crash', 0.1 ],\n",
    "                                     [ 'No', 'NoCrash', 0.9 ]], [IcyRoads] )\n",
    " \n",
    "d1 = State( IcyRoads, name=\"IcyRoads\" )\n",
    "d2 = State( Holmes, name=\"Holmes\" )\n",
    "d3 = State( Watson, name=\"Watson\" )\n",
    " \n",
    "#Building the Bayesian Network\n",
    "network = BayesianNetwork( \"Solving the Sherlock Crash Problem With Bayesian Networks\" )\n",
    "network.add_states(d1, d2, d3)\n",
    "network.add_edge(d1, d2)\n",
    "network.add_edge(d1, d3)\n",
    "network.bake()"
   ]
  },
  {
   "cell_type": "code",
   "execution_count": 10,
   "metadata": {},
   "outputs": [
    {
     "name": "stdout",
     "output_type": "stream",
     "text": [
      "IcyRoadst{\n",
      "    \"class\" :\"Distribution\",\n",
      "    \"dtype\" :\"str\",\n",
      "    \"name\" :\"DiscreteDistribution\",\n",
      "    \"parameters\" :[\n",
      "        {\n",
      "            \"Yes\" :0.9032258064516125,\n",
      "            \"No\" :0.09677419354838743\n",
      "        }\n",
      "    ],\n",
      "    \"frozen\" :false\n",
      "}nHolmestCrashnWatsont{\n",
      "    \"class\" :\"Distribution\",\n",
      "    \"dtype\" :\"str\",\n",
      "    \"name\" :\"DiscreteDistribution\",\n",
      "    \"parameters\" :[\n",
      "        {\n",
      "            \"Crash\" :0.7322580645161287,\n",
      "            \"NoCrash\" :0.2677419354838712\n",
      "        }\n",
      "    ],\n",
      "    \"frozen\" :false\n",
      "}\n"
     ]
    }
   ],
   "source": [
    "beliefs = network.predict_proba({'Holmes':'Crash'})\n",
    "beliefs = map(str, beliefs)\n",
    "print(\"n\".join( \"{}t{}\".format( state.name, belief ) for state, belief in zip( network.states, beliefs ) ))\n",
    " "
   ]
  },
  {
   "cell_type": "code",
   "execution_count": null,
   "metadata": {},
   "outputs": [],
   "source": []
  }
 ],
 "metadata": {
  "kernelspec": {
   "display_name": "Python 3.7.4 64-bit",
   "language": "python",
   "name": "python37464bit293efa6a52094faaa7eb9277aca6da57"
  },
  "language_info": {
   "codemirror_mode": {
    "name": "ipython",
    "version": 3
   },
   "file_extension": ".py",
   "mimetype": "text/x-python",
   "name": "python",
   "nbconvert_exporter": "python",
   "pygments_lexer": "ipython3",
   "version": "3.7.4"
  }
 },
 "nbformat": 4,
 "nbformat_minor": 2
}
