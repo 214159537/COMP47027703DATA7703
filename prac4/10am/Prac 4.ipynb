{
 "cells": [
  {
   "cell_type": "markdown",
   "metadata": {},
   "source": [
    "# Q1 \n",
    "Apply the k-means clustering algorithm (as implemented in Matlab or something else if you prefer) to the heightweight dataset ( second and third columns).  Plot the resulting cluster centres together with the data.  Colour the data according to class label (first column; hint: sort the data!)"
   ]
  },
  {
   "cell_type": "code",
   "execution_count": 10,
   "metadata": {},
   "outputs": [],
   "source": [
    "import scipy.io\n",
    "import numpy as np"
   ]
  },
  {
   "cell_type": "code",
   "execution_count": 3,
   "metadata": {},
   "outputs": [],
   "source": [
    "data = scipy.io.loadmat('heightWeight.mat')"
   ]
  },
  {
   "cell_type": "code",
   "execution_count": 5,
   "metadata": {},
   "outputs": [],
   "source": [
    "data = data['heightWeightData']"
   ]
  },
  {
   "cell_type": "code",
   "execution_count": 8,
   "metadata": {},
   "outputs": [],
   "source": [
    "data_xy = data[:,1:]"
   ]
  },
  {
   "cell_type": "code",
   "execution_count": 49,
   "metadata": {},
   "outputs": [],
   "source": [
    "def naiveKmeans(data, k, epsilon = 0.1):\n",
    "    data_min = np.min(data, axis=0)\n",
    "    data_max = np.max(data, axis=0)\n",
    "    assert len(data.shape) == 2\n",
    "    centroids = np.random.uniform(data_min, data_max,size=(k,data.shape[1]))\n",
    "    while 1: \n",
    "        dists = []\n",
    "        for center in range(k):\n",
    "            distances = np.linalg.norm(data-centroids[center,:], axis=1)\n",
    "            dists.append(distances)\n",
    "        dists = np.array(dists)\n",
    "        clusters = np.argmin(dists, axis=0)\n",
    "        diffs = []\n",
    "        for center in range(k):\n",
    "            new_centroid = np.mean(data_xy[clusters==center],axis=0)\n",
    "            diff = new_centroid - centroids[center,:]\n",
    "            centroids[center,:] = new_centroid\n",
    "            diffs.append(diff)\n",
    "        diffs = np.array(diffs)\n",
    "        if (diffs < epsilon).all():\n",
    "            return centroids  \n",
    "    "
   ]
  },
  {
   "cell_type": "code",
   "execution_count": 71,
   "metadata": {},
   "outputs": [],
   "source": [
    "means = naiveKmeans(data_xy,2, epsilon=0.001)"
   ]
  },
  {
   "cell_type": "code",
   "execution_count": 53,
   "metadata": {},
   "outputs": [],
   "source": [
    "labels= data[:,0]\n",
    "data1 = data_xy[labels==1]\n",
    "data2 = data_xy[labels==2]"
   ]
  },
  {
   "cell_type": "code",
   "execution_count": 54,
   "metadata": {},
   "outputs": [],
   "source": [
    "import matplotlib.pyplot as plt"
   ]
  },
  {
   "cell_type": "code",
   "execution_count": 64,
   "metadata": {},
   "outputs": [],
   "source": [
    "from sklearn.cluster import KMeans "
   ]
  },
  {
   "cell_type": "code",
   "execution_count": 66,
   "metadata": {},
   "outputs": [],
   "source": [
    "km = KMeans(2).fit(data_xy)"
   ]
  },
  {
   "cell_type": "code",
   "execution_count": 69,
   "metadata": {},
   "outputs": [
    {
     "data": {
      "text/plain": [
       "<matplotlib.collections.PathCollection at 0x2634febdf48>"
      ]
     },
     "execution_count": 69,
     "metadata": {},
     "output_type": "execute_result"
    },
    {
     "data": {
      "image/png": "[encoded data removed]",
      "text/plain": [
       "<Figure size 432x288 with 1 Axes>"
      ]
     },
     "metadata": {
      "needs_background": "light"
     },
     "output_type": "display_data"
    }
   ],
   "source": [
    "plt.scatter(data1[:,0],data1[:,1], c='r', alpha=0.4)\n",
    "plt.scatter(data2[:,0],data2[:,1], c='b', alpha=0.4)\n",
    "plt.scatter(means[:,0],means[:,1], marker='x',c='k')\n",
    "plt.scatter(km.cluster_centers_[:,0],km.cluster_centers_[:,1], marker='v', c='g')"
   ]
  },
  {
   "cell_type": "markdown",
   "metadata": {},
   "source": [
    "# Q2: \n",
    "In Matlab or python, implement the mean shift clustering algorithm as discussed in lectures and papers. To do this, use a “flat” kernel function (you will need to specify the value for the radius parameter, λ). You can choose to implement as either a “blurring” or “non-blurring” process.  "
   ]
  },
  {
   "cell_type": "code",
   "execution_count": 73,
   "metadata": {},
   "outputs": [],
   "source": [
    "from sklearn.cluster import MeanShift"
   ]
  },
  {
   "cell_type": "code",
   "execution_count": 74,
   "metadata": {},
   "outputs": [
    {
     "name": "stdout",
     "output_type": "stream",
     "text": [
      "Help on class MeanShift in module sklearn.cluster._mean_shift:\n",
      "\n",
      "class MeanShift(sklearn.base.ClusterMixin, sklearn.base.BaseEstimator)\n",
      " |  MeanShift(bandwidth=None, seeds=None, bin_seeding=False, min_bin_freq=1, cluster_all=True, n_jobs=None, max_iter=300)\n",
      " |  \n",
      " |  Mean shift clustering using a flat kernel.\n",
      " |  \n",
      " |  Mean shift clustering aims to discover \"blobs\" in a smooth density of\n",
      " |  samples. It is a centroid-based algorithm, which works by updating\n",
      " |  candidates for centroids to be the mean of the points within a given\n",
      " |  region. These candidates are then filtered in a post-processing stage to\n",
      " |  eliminate near-duplicates to form the final set of centroids.\n",
      " |  \n",
      " |  Seeding is performed using a binning technique for scalability.\n",
      " |  \n",
      " |  Read more in the :ref:`User Guide <mean_shift>`.\n",
      " |  \n",
      " |  Parameters\n",
      " |  ----------\n",
      " |  bandwidth : float, optional\n",
      " |      Bandwidth used in the RBF kernel.\n",
      " |  \n",
      " |      If not given, the bandwidth is estimated using\n",
      " |      sklearn.cluster.estimate_bandwidth; see the documentation for that\n",
      " |      function for hints on scalability (see also the Notes, below).\n",
      " |  \n",
      " |  seeds : array, shape=[n_samples, n_features], optional\n",
      " |      Seeds used to initialize kernels. If not set,\n",
      " |      the seeds are calculated by clustering.get_bin_seeds\n",
      " |      with bandwidth as the grid size and default values for\n",
      " |      other parameters.\n",
      " |  \n",
      " |  bin_seeding : boolean, optional\n",
      " |      If true, initial kernel locations are not locations of all\n",
      " |      points, but rather the location of the discretized version of\n",
      " |      points, where points are binned onto a grid whose coarseness\n",
      " |      corresponds to the bandwidth. Setting this option to True will speed\n",
      " |      up the algorithm because fewer seeds will be initialized.\n",
      " |      default value: False\n",
      " |      Ignored if seeds argument is not None.\n",
      " |  \n",
      " |  min_bin_freq : int, optional\n",
      " |     To speed up the algorithm, accept only those bins with at least\n",
      " |     min_bin_freq points as seeds. If not defined, set to 1.\n",
      " |  \n",
      " |  cluster_all : boolean, default True\n",
      " |      If true, then all points are clustered, even those orphans that are\n",
      " |      not within any kernel. Orphans are assigned to the nearest kernel.\n",
      " |      If false, then orphans are given cluster label -1.\n",
      " |  \n",
      " |  n_jobs : int or None, optional (default=None)\n",
      " |      The number of jobs to use for the computation. This works by computing\n",
      " |      each of the n_init runs in parallel.\n",
      " |  \n",
      " |      ``None`` means 1 unless in a :obj:`joblib.parallel_backend` context.\n",
      " |      ``-1`` means using all processors. See :term:`Glossary <n_jobs>`\n",
      " |      for more details.\n",
      " |  \n",
      " |  max_iter : int, default=300\n",
      " |      Maximum number of iterations, per seed point before the clustering\n",
      " |      operation terminates (for that seed point), if has not converged yet.\n",
      " |  \n",
      " |      .. versionadded:: 0.22\n",
      " |  \n",
      " |  Attributes\n",
      " |  ----------\n",
      " |  cluster_centers_ : array, [n_clusters, n_features]\n",
      " |      Coordinates of cluster centers.\n",
      " |  \n",
      " |  labels_ :\n",
      " |      Labels of each point.\n",
      " |  \n",
      " |  n_iter_ : int\n",
      " |      Maximum number of iterations performed on each seed.\n",
      " |  \n",
      " |      .. versionadded:: 0.22\n",
      " |  \n",
      " |  Examples\n",
      " |  --------\n",
      " |  >>> from sklearn.cluster import MeanShift\n",
      " |  >>> import numpy as np\n",
      " |  >>> X = np.array([[1, 1], [2, 1], [1, 0],\n",
      " |  ...               [4, 7], [3, 5], [3, 6]])\n",
      " |  >>> clustering = MeanShift(bandwidth=2).fit(X)\n",
      " |  >>> clustering.labels_\n",
      " |  array([1, 1, 1, 0, 0, 0])\n",
      " |  >>> clustering.predict([[0, 0], [5, 5]])\n",
      " |  array([1, 0])\n",
      " |  >>> clustering\n",
      " |  MeanShift(bandwidth=2)\n",
      " |  \n",
      " |  Notes\n",
      " |  -----\n",
      " |  \n",
      " |  Scalability:\n",
      " |  \n",
      " |  Because this implementation uses a flat kernel and\n",
      " |  a Ball Tree to look up members of each kernel, the complexity will tend\n",
      " |  towards O(T*n*log(n)) in lower dimensions, with n the number of samples\n",
      " |  and T the number of points. In higher dimensions the complexity will\n",
      " |  tend towards O(T*n^2).\n",
      " |  \n",
      " |  Scalability can be boosted by using fewer seeds, for example by using\n",
      " |  a higher value of min_bin_freq in the get_bin_seeds function.\n",
      " |  \n",
      " |  Note that the estimate_bandwidth function is much less scalable than the\n",
      " |  mean shift algorithm and will be the bottleneck if it is used.\n",
      " |  \n",
      " |  References\n",
      " |  ----------\n",
      " |  \n",
      " |  Dorin Comaniciu and Peter Meer, \"Mean Shift: A robust approach toward\n",
      " |  feature space analysis\". IEEE Transactions on Pattern Analysis and\n",
      " |  Machine Intelligence. 2002. pp. 603-619.\n",
      " |  \n",
      " |  Method resolution order:\n",
      " |      MeanShift\n",
      " |      sklearn.base.ClusterMixin\n",
      " |      sklearn.base.BaseEstimator\n",
      " |      builtins.object\n",
      " |  \n",
      " |  Methods defined here:\n",
      " |  \n",
      " |  __init__(self, bandwidth=None, seeds=None, bin_seeding=False, min_bin_freq=1, cluster_all=True, n_jobs=None, max_iter=300)\n",
      " |      Initialize self.  See help(type(self)) for accurate signature.\n",
      " |  \n",
      " |  fit(self, X, y=None)\n",
      " |      Perform clustering.\n",
      " |      \n",
      " |      Parameters\n",
      " |      ----------\n",
      " |      X : array-like of shape (n_samples, n_features)\n",
      " |          Samples to cluster.\n",
      " |      \n",
      " |      y : Ignored\n",
      " |  \n",
      " |  predict(self, X)\n",
      " |      Predict the closest cluster each sample in X belongs to.\n",
      " |      \n",
      " |      Parameters\n",
      " |      ----------\n",
      " |      X : {array-like, sparse matrix}, shape=[n_samples, n_features]\n",
      " |          New data to predict.\n",
      " |      \n",
      " |      Returns\n",
      " |      -------\n",
      " |      labels : array, shape [n_samples,]\n",
      " |          Index of the cluster each sample belongs to.\n",
      " |  \n",
      " |  ----------------------------------------------------------------------\n",
      " |  Methods inherited from sklearn.base.ClusterMixin:\n",
      " |  \n",
      " |  fit_predict(self, X, y=None)\n",
      " |      Perform clustering on X and returns cluster labels.\n",
      " |      \n",
      " |      Parameters\n",
      " |      ----------\n",
      " |      X : ndarray, shape (n_samples, n_features)\n",
      " |          Input data.\n",
      " |      \n",
      " |      y : Ignored\n",
      " |          Not used, present for API consistency by convention.\n",
      " |      \n",
      " |      Returns\n",
      " |      -------\n",
      " |      labels : ndarray, shape (n_samples,)\n",
      " |          Cluster labels.\n",
      " |  \n",
      " |  ----------------------------------------------------------------------\n",
      " |  Data descriptors inherited from sklearn.base.ClusterMixin:\n",
      " |  \n",
      " |  __dict__\n",
      " |      dictionary for instance variables (if defined)\n",
      " |  \n",
      " |  __weakref__\n",
      " |      list of weak references to the object (if defined)\n",
      " |  \n",
      " |  ----------------------------------------------------------------------\n",
      " |  Methods inherited from sklearn.base.BaseEstimator:\n",
      " |  \n",
      " |  __getstate__(self)\n",
      " |  \n",
      " |  __repr__(self, N_CHAR_MAX=700)\n",
      " |      Return repr(self).\n",
      " |  \n",
      " |  __setstate__(self, state)\n",
      " |  \n",
      " |  get_params(self, deep=True)\n",
      " |      Get parameters for this estimator.\n",
      " |      \n",
      " |      Parameters\n",
      " |      ----------\n",
      " |      deep : bool, default=True\n",
      " |          If True, will return the parameters for this estimator and\n",
      " |          contained subobjects that are estimators.\n",
      " |      \n",
      " |      Returns\n",
      " |      -------\n",
      " |      params : mapping of string to any\n",
      " |          Parameter names mapped to their values.\n",
      " |  \n",
      " |  set_params(self, **params)\n",
      " |      Set the parameters of this estimator.\n",
      " |      \n",
      " |      The method works on simple estimators as well as on nested objects\n",
      " |      (such as pipelines). The latter have parameters of the form\n",
      " |      ``<component>__<parameter>`` so that it's possible to update each\n",
      " |      component of a nested object.\n",
      " |      \n",
      " |      Parameters\n",
      " |      ----------\n",
      " |      **params : dict\n",
      " |          Estimator parameters.\n",
      " |      \n",
      " |      Returns\n",
      " |      -------\n",
      " |      self : object\n",
      " |          Estimator instance.\n",
      "\n"
     ]
    }
   ],
   "source": [
    "def MeanShift(data, lamda):\n",
    "    means = data\n",
    "    #find each datapoint inside the lambda ball (flat kernel) (using np.linalg.norm)\n",
    "    #calculate its mean - set means to new mean\n",
    "    #repeat"
   ]
  },
  {
   "cell_type": "code",
   "execution_count": null,
   "metadata": {},
   "outputs": [],
   "source": []
  }
 ],
 "metadata": {
  "kernelspec": {
   "display_name": "Python 3",
   "language": "python",
   "name": "python3"
  },
  "language_info": {
   "codemirror_mode": {
    "name": "ipython",
    "version": 3
   },
   "file_extension": ".py",
   "mimetype": "text/x-python",
   "name": "python",
   "nbconvert_exporter": "python",
   "pygments_lexer": "ipython3",
   "version": "3.7.4"
  }
 },
 "nbformat": 4,
 "nbformat_minor": 4
}
