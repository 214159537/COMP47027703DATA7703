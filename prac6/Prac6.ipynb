{
 "cells": [
  {
   "cell_type": "code",
   "execution_count": 1,
   "metadata": {},
   "outputs": [
    {
     "name": "stdout",
     "output_type": "stream",
     "text": [
      "Looking in links: https://download.pytorch.org/whl/torch_stable.html\n",
      "Collecting torch===1.4.0\n",
      "  Downloading https://download.pytorch.org/whl/cu101/torch-1.4.0-cp37-cp37m-win_amd64.whl (796.8 MB)\n",
      "Collecting torchvision===0.5.0\n",
      "  Downloading torchvision-0.5.0-cp37-cp37m-win_amd64.whl (1.2 MB)\n",
      "Requirement already satisfied: six in c:\\users\\llewyn\\code\\comp47027703data7703\\machine_learning\\lib\\site-packages (from torchvision===0.5.0) (1.14.0)\n",
      "Requirement already satisfied: numpy in c:\\users\\llewyn\\code\\comp47027703data7703\\machine_learning\\lib\\site-packages (from torchvision===0.5.0) (1.18.1)\n",
      "Collecting pillow>=4.1.1\n",
      "  Downloading Pillow-7.1.1-cp37-cp37m-win_amd64.whl (2.0 MB)\n",
      "Installing collected packages: torch, pillow, torchvision\n",
      "Successfully installed pillow-7.1.1 torch-1.4.0 torchvision-0.5.0\n"
     ]
    }
   ],
   "source": [
    "!pip install torch===1.4.0 torchvision===0.5.0 -f https://download.pytorch.org/whl/torch_stable.html"
   ]
  },
  {
   "cell_type": "markdown",
   "metadata": {},
   "source": [
    "Q1 Make a MLP and test on some dataset"
   ]
  },
  {
   "cell_type": "code",
   "execution_count": 4,
   "metadata": {},
   "outputs": [],
   "source": [
    "# -*- coding: utf-8 -*-\n",
    "import torch\n",
    "import torchvision\n",
    "\n",
    "# # N is batch size; D_in is input dimension;\n",
    "# # H is hidden dimension; D_out is output dimension.\n",
    "# N, D_in, H, D_out = 64, 1000, 100, 10\n",
    "\n",
    "# # Create random Tensors to hold inputs and outputs\n",
    "# x = torch.randn(N, D_in)\n",
    "# y = torch.randn(N, D_out)\n",
    "\n",
    "# # Construct our model by instantiating the class defined above\n",
    "# model = TwoLayerNet(D_in, H, D_out)\n",
    "\n",
    "# # Construct our loss function and an Optimizer. The call to model.parameters()\n",
    "# # in the SGD constructor will contain the learnable parameters of the two\n",
    "# # nn.Linear modules which are members of the model.\n",
    "# criterion = torch.nn.MSELoss(reduction='sum')\n",
    "# optimizer = torch.optim.SGD(model.parameters(), lr=1e-4)\n",
    "# for t in range(500):\n",
    "#     # Forward pass: Compute predicted y by passing x to the model\n",
    "#     y_pred = model(x)\n",
    "\n",
    "#     # Compute and print loss\n",
    "#     loss = criterion(y_pred, y)\n",
    "#     if t % 100 == 99:\n",
    "#         print(t, loss.item())\n",
    "\n",
    "#     # Zero gradients, perform a backward pass, and update the weights.\n",
    "#     optimizer.zero_grad()\n",
    "#     loss.backward()\n",
    "#     optimizer.step()"
   ]
  },
  {
   "cell_type": "markdown",
   "metadata": {},
   "source": [
    "$\\sigma_2(\\mathbf{W}_2\\sigma_1(\\mathbf{W}_1x+\\mathbf{b}_1)+\\mathbf{b}_2)$"
   ]
  },
  {
   "cell_type": "code",
   "execution_count": 3,
   "metadata": {},
   "outputs": [],
   "source": [
    "class TwoLayerNet(torch.nn.Module):\n",
    "    def __init__(self, D_in, H, D_out):\n",
    "        \"\"\"\n",
    "        In the constructor we instantiate two nn.Linear modules and assign them as\n",
    "        member variables.\n",
    "        \"\"\"\n",
    "        super(TwoLayerNet, self).__init__()\n",
    "        self.linear1 = torch.nn.Linear(D_in, H)\n",
    "        self.linear2 = torch.nn.Linear(H, D_out)\n",
    "\n",
    "    def forward(self, x):\n",
    "        \"\"\"\n",
    "        In the forward function we accept a Tensor of input data and we must return\n",
    "        a Tensor of output data. We can use Modules defined in the constructor as\n",
    "        well as arbitrary operators on Tensors.\n",
    "        \"\"\"\n",
    "        h_relu = self.linear1(x).clamp(min=0)\n",
    "        y_pred = self.linear2(h_relu)\n",
    "        return y_pred"
   ]
  },
  {
   "cell_type": "code",
   "execution_count": 5,
   "metadata": {},
   "outputs": [
    {
     "name": "stdout",
     "output_type": "stream",
     "text": [
      "Downloading http://yann.lecun.com/exdb/mnist/train-images-idx3-ubyte.gz to MNIST_data\\MNIST\\raw\\train-images-idx3-ubyte.gz\n"
     ]
    },
    {
     "name": "stderr",
     "output_type": "stream",
     "text": [
      "100.1%"
     ]
    },
    {
     "name": "stdout",
     "output_type": "stream",
     "text": [
      "Extracting MNIST_data\\MNIST\\raw\\train-images-idx3-ubyte.gz to MNIST_data\\MNIST\\raw\n",
      "Downloading http://yann.lecun.com/exdb/mnist/train-labels-idx1-ubyte.gz to MNIST_data\\MNIST\\raw\\train-labels-idx1-ubyte.gz\n"
     ]
    },
    {
     "name": "stderr",
     "output_type": "stream",
     "text": [
      "113.5%"
     ]
    },
    {
     "name": "stdout",
     "output_type": "stream",
     "text": [
      "Extracting MNIST_data\\MNIST\\raw\\train-labels-idx1-ubyte.gz to MNIST_data\\MNIST\\raw\n",
      "Downloading http://yann.lecun.com/exdb/mnist/t10k-images-idx3-ubyte.gz to MNIST_data\\MNIST\\raw\\t10k-images-idx3-ubyte.gz\n"
     ]
    },
    {
     "name": "stderr",
     "output_type": "stream",
     "text": [
      "100.4%"
     ]
    },
    {
     "name": "stdout",
     "output_type": "stream",
     "text": [
      "Extracting MNIST_data\\MNIST\\raw\\t10k-images-idx3-ubyte.gz to MNIST_data\\MNIST\\raw\n",
      "Downloading http://yann.lecun.com/exdb/mnist/t10k-labels-idx1-ubyte.gz to MNIST_data\\MNIST\\raw\\t10k-labels-idx1-ubyte.gz\n"
     ]
    },
    {
     "name": "stderr",
     "output_type": "stream",
     "text": [
      "180.4%"
     ]
    },
    {
     "name": "stdout",
     "output_type": "stream",
     "text": [
      "Extracting MNIST_data\\MNIST\\raw\\t10k-labels-idx1-ubyte.gz to MNIST_data\\MNIST\\raw\n",
      "Processing...\n",
      "Done!\n"
     ]
    }
   ],
   "source": [
    "MNIST_train = torchvision.datasets.MNIST('MNIST_data',download=True,train=True, transform=True)"
   ]
  },
  {
   "cell_type": "code",
   "execution_count": 39,
   "metadata": {},
   "outputs": [],
   "source": [
    "MNIST_train.data = MNIST_train.data.reshape([-1,28*28])/255.0"
   ]
  },
  {
   "cell_type": "code",
   "execution_count": 29,
   "metadata": {},
   "outputs": [],
   "source": [
    "import numpy as np"
   ]
  },
  {
   "cell_type": "code",
   "execution_count": 42,
   "metadata": {},
   "outputs": [
    {
     "name": "stdout",
     "output_type": "stream",
     "text": [
      "99 2.3168797492980957\n",
      "199 2.2989609241485596\n",
      "299 2.296933174133301\n",
      "399 2.3008317947387695\n",
      "499 2.313343048095703\n",
      "599 2.305863618850708\n",
      "699 2.3016412258148193\n",
      "799 2.3160054683685303\n",
      "899 2.296250581741333\n",
      "999 2.3024749755859375\n",
      "1099 2.296248197555542\n",
      "1199 2.3016510009765625\n",
      "1299 2.2911460399627686\n",
      "1399 2.2841413021087646\n",
      "1499 2.313904047012329\n",
      "1599 2.308737277984619\n",
      "1699 2.282815456390381\n",
      "1799 2.2745866775512695\n",
      "1899 2.2916295528411865\n",
      "1999 2.2920963764190674\n",
      "2099 2.28244686126709\n",
      "2199 2.296790599822998\n",
      "2299 2.2868096828460693\n",
      "2399 2.2643749713897705\n",
      "2499 2.280360221862793\n",
      "2599 2.277703285217285\n",
      "2699 2.2735238075256348\n",
      "2799 2.256436347961426\n",
      "2899 2.263462781906128\n",
      "2999 2.274229049682617\n",
      "3099 2.264789342880249\n",
      "3199 2.26975679397583\n",
      "3299 2.243560552597046\n",
      "3399 2.2436885833740234\n",
      "3499 2.2531332969665527\n",
      "3599 2.252997636795044\n",
      "3699 2.261762857437134\n",
      "3799 2.259286642074585\n",
      "3899 2.2348318099975586\n",
      "3999 2.261312484741211\n",
      "4099 2.241710662841797\n",
      "4199 2.248265266418457\n",
      "4299 2.21189546585083\n",
      "4399 2.2357850074768066\n",
      "4499 2.240330219268799\n",
      "4599 2.2251009941101074\n",
      "4699 2.25274395942688\n",
      "4799 2.2208337783813477\n",
      "4899 2.2018120288848877\n",
      "4999 2.2191638946533203\n",
      "5099 2.1979665756225586\n",
      "5199 2.2376487255096436\n",
      "5299 2.1944611072540283\n",
      "5399 2.2100677490234375\n",
      "5499 2.1921584606170654\n",
      "5599 2.215268611907959\n",
      "5699 2.2083425521850586\n",
      "5799 2.2042837142944336\n",
      "5899 2.223252534866333\n",
      "5999 2.215216636657715\n",
      "6099 2.1990299224853516\n",
      "6199 2.226720094680786\n",
      "6299 2.2184793949127197\n",
      "6399 2.185645341873169\n",
      "6499 2.220947265625\n",
      "6599 2.201056957244873\n",
      "6699 2.188870429992676\n",
      "6799 2.2103512287139893\n",
      "6899 2.19053316116333\n",
      "6999 2.2050795555114746\n",
      "7099 2.2122464179992676\n",
      "7199 2.1733570098876953\n",
      "7299 2.174473762512207\n",
      "7399 2.164010763168335\n",
      "7499 2.2026023864746094\n",
      "7599 2.1700117588043213\n",
      "7699 2.192922830581665\n",
      "7799 2.172860622406006\n",
      "7899 2.168426990509033\n",
      "7999 2.168041467666626\n",
      "8099 2.1563010215759277\n",
      "8199 2.147122383117676\n",
      "8299 2.1796979904174805\n",
      "8399 2.1353302001953125\n",
      "8499 2.1735119819641113\n",
      "8599 2.1563165187835693\n",
      "8699 2.1509292125701904\n",
      "8799 2.152944564819336\n",
      "8899 2.156766891479492\n",
      "8999 2.148721218109131\n",
      "9099 2.138089656829834\n",
      "9199 2.142096757888794\n",
      "9299 2.1420083045959473\n",
      "9399 2.1608223915100098\n",
      "9499 2.1276209354400635\n",
      "9599 2.152228832244873\n",
      "9699 2.1114249229431152\n",
      "9799 2.1204330921173096\n",
      "9899 2.1546452045440674\n",
      "9999 2.123483896255493\n"
     ]
    }
   ],
   "source": [
    "# # N is batch size; D_in is input dimension;\n",
    "# # H is hidden dimension; D_out is output dimension.\n",
    "\n",
    "N, D_in, H, D_out = 64, MNIST_train.data.shape[1], 100, len(MNIST_train.classes)\n",
    "\n",
    "# Construct our model by instantiating the class defined above\n",
    "model = TwoLayerNet(D_in, H, D_out)\n",
    "\n",
    "# Construct our loss function and an Optimizer. The call to model.parameters()\n",
    "# in the SGD constructor will contain the learnable parameters of the two\n",
    "# nn.Linear modules which are members of the model.\n",
    "criterion = torch.nn.CrossEntropyLoss(reduction='mean')\n",
    "optimizer = torch.optim.SGD(model.parameters(), lr=1e-4)\n",
    "\n",
    "for t in range(10000):\n",
    "    idx = np.random.randint(0, MNIST_train.data.shape[0], size = 64)\n",
    "    x = MNIST_train.data[idx,:]\n",
    "    # Forward pass: Compute predicted y by passing x to the model\n",
    "    y_pred = model(x)\n",
    "\n",
    "    # Compute and print loss\n",
    "    loss = criterion(y_pred, MNIST_train.targets[idx])\n",
    "    if t % 100 == 99:\n",
    "        print(t, loss.item())\n",
    "\n",
    "    # Zero gradients, perform a backward pass, and update the weights.\n",
    "    optimizer.zero_grad()\n",
    "    loss.backward()\n",
    "    optimizer.step()"
   ]
  },
  {
   "cell_type": "code",
   "execution_count": 43,
   "metadata": {},
   "outputs": [],
   "source": [
    "Y_pred = model(MNIST_train.data)"
   ]
  },
  {
   "cell_type": "code",
   "execution_count": 45,
   "metadata": {},
   "outputs": [],
   "source": [
    "Y_pred = Y_pred.argmax(1)"
   ]
  },
  {
   "cell_type": "code",
   "execution_count": 52,
   "metadata": {},
   "outputs": [
    {
     "data": {
      "text/plain": [
       "tensor(0.5268)"
      ]
     },
     "execution_count": 52,
     "metadata": {},
     "output_type": "execute_result"
    }
   ],
   "source": [
    "(Y_pred == MNIST_train.targets).sum()/float(MNIST_train.targets.shape[0])"
   ]
  },
  {
   "cell_type": "code",
   "execution_count": 54,
   "metadata": {},
   "outputs": [],
   "source": [
    "import matplotlib.pyplot as plt"
   ]
  },
  {
   "cell_type": "code",
   "execution_count": 55,
   "metadata": {},
   "outputs": [],
   "source": [
    "x = np.linspace(-6,6)"
   ]
  },
  {
   "cell_type": "code",
   "execution_count": 56,
   "metadata": {},
   "outputs": [],
   "source": [
    "y_relu = np.maximum(0,x)"
   ]
  },
  {
   "cell_type": "code",
   "execution_count": 57,
   "metadata": {},
   "outputs": [
    {
     "data": {
      "text/plain": [
       "[<matplotlib.lines.Line2D at 0x2e3219b5e08>]"
      ]
     },
     "execution_count": 57,
     "metadata": {},
     "output_type": "execute_result"
    },
    {
     "data": {
      "image/png": "[encoded data removed]",
      "text/plain": [
       "<Figure size 432x288 with 1 Axes>"
      ]
     },
     "metadata": {
      "needs_background": "light"
     },
     "output_type": "display_data"
    }
   ],
   "source": [
    "plt.plot(x,y_relu)"
   ]
  },
  {
   "cell_type": "code",
   "execution_count": 58,
   "metadata": {},
   "outputs": [
    {
     "data": {
      "text/plain": [
       "[<matplotlib.lines.Line2D at 0x2e328786248>]"
      ]
     },
     "execution_count": 58,
     "metadata": {},
     "output_type": "execute_result"
    },
    {
     "data": {
      "image/png": "[encoded data removed]",
      "text/plain": [
       "<Figure size 432x288 with 1 Axes>"
      ]
     },
     "metadata": {
      "needs_background": "light"
     },
     "output_type": "display_data"
    }
   ],
   "source": [
    "plt.plot(x,np.tanh(x))"
   ]
  },
  {
   "cell_type": "markdown",
   "metadata": {},
   "source": [
    "$\\mathcal{X} \\rightarrow \\mathcal{Y}$"
   ]
  },
  {
   "cell_type": "code",
   "execution_count": 106,
   "metadata": {},
   "outputs": [],
   "source": [
    "class MultiLayerPerceptron(torch.nn.Module):\n",
    "    def __init__(self, D_in, D_out,H=[400,200],lr=1e-4):\n",
    "        \"\"\"\n",
    "        In the constructor we instantiate two nn.Linear modules and assign them as\n",
    "        member variables.\n",
    "        \"\"\"\n",
    "        super(MultiLayerPerceptron,self).__init__()\n",
    "        self._layers = []\n",
    "        self._layers.append(torch.nn.Linear(D_in, H[0]))\n",
    "        for i in range(1,len(H)):\n",
    "            self._layers.append(torch.nn.Linear(H[i-1],H[i]))\n",
    "        self._layers.append(torch.nn.Linear(H[-1], D_out))\n",
    "        for i,layer in enumerate(self._layers):\n",
    "            self.__setattr__(f'layer{i}', layer)\n",
    "        self._lr = lr\n",
    "        \n",
    "        \n",
    "    def init_optimiser(self):\n",
    "        self.loss = torch.nn.CrossEntropyLoss(reduction='mean')\n",
    "        self.optimizer = torch.optim.SGD(self.parameters(), lr=self._lr)\n",
    "        \n",
    "    def forward(self, x):\n",
    "        \"\"\"\n",
    "        In the forward function we accept a Tensor of input data and we must return\n",
    "        a Tensor of output data. We can use Modules defined in the constructor as\n",
    "        well as arbitrary operators on Tensors.\n",
    "        \"\"\"\n",
    "        for layer in self._layers[:-1]:\n",
    "            x = layer(x).clamp(min=0)\n",
    "        return self._layers[-1](x)\n",
    "    \n",
    "    def train(self, inputs, labels, num_training_steps=1000, batch_size=64):\n",
    "        self.init_optimiser()\n",
    "        for t in range(num_training_steps):\n",
    "            idx = np.random.randint(0, MNIST_train.data.shape[0], size = batch_size)\n",
    "            x = inputs[idx,:]\n",
    "            # Forward pass: Compute predicted y by passing x to the model\n",
    "            y_pred = self(x)\n",
    "\n",
    "            # Compute and print loss\n",
    "            loss = self.loss(y_pred, labels[idx])\n",
    "            if t % 100 == 99:\n",
    "                print(t, loss.item())\n",
    "\n",
    "            # Zero gradients, perform a backward pass, and update the weights.\n",
    "            self.optimizer.zero_grad()\n",
    "            loss.backward()\n",
    "            self.optimizer.step()\n",
    "    \n",
    "    def check_accuracy(self,inputs,labels):\n",
    "        predictions = self(inputs)\n",
    "        print((labels==predictions.argmax(1)).sum()/float(labels.shape[0]))"
   ]
  },
  {
   "cell_type": "code",
   "execution_count": 111,
   "metadata": {},
   "outputs": [],
   "source": [
    "N, D_in, H, D_out = 64, MNIST_train.data.shape[1], [400,200], len(MNIST_train.classes)"
   ]
  },
  {
   "cell_type": "code",
   "execution_count": 115,
   "metadata": {},
   "outputs": [],
   "source": [
    "# Construct our model by instantiating the class defined above\n",
    "model = MultiLayerPerceptron(D_in, D_out, H=H, lr=1e-1)"
   ]
  },
  {
   "cell_type": "code",
   "execution_count": 116,
   "metadata": {},
   "outputs": [
    {
     "name": "stdout",
     "output_type": "stream",
     "text": [
      "99 0.8041207194328308\n",
      "199 0.32812052965164185\n",
      "299 0.22061952948570251\n",
      "399 0.4095252752304077\n",
      "499 0.22444668412208557\n",
      "599 0.40088894963264465\n",
      "699 0.24320866167545319\n",
      "799 0.39519548416137695\n",
      "899 0.2608329653739929\n",
      "999 0.23255257308483124\n",
      "1099 0.2928347885608673\n",
      "1199 0.20748773217201233\n",
      "1299 0.07594841718673706\n",
      "1399 0.09598762542009354\n",
      "1499 0.14402537047863007\n",
      "1599 0.1407455950975418\n",
      "1699 0.08133096992969513\n",
      "1799 0.1128060445189476\n",
      "1899 0.055791065096855164\n",
      "1999 0.07754237949848175\n",
      "2099 0.09230149537324905\n",
      "2199 0.033358920365571976\n",
      "2299 0.06229642033576965\n",
      "2399 0.0292130745947361\n",
      "2499 0.09734534472227097\n",
      "2599 0.10554932057857513\n",
      "2699 0.1250012069940567\n",
      "2799 0.03526261821389198\n",
      "2899 0.04766123741865158\n",
      "2999 0.0261327363550663\n",
      "3099 0.05821887031197548\n",
      "3199 0.11985606700181961\n",
      "3299 0.040989041328430176\n",
      "3399 0.12473440170288086\n",
      "3499 0.06542672216892242\n",
      "3599 0.08947700262069702\n",
      "3699 0.05768892168998718\n",
      "3799 0.06453341245651245\n",
      "3899 0.06907269358634949\n",
      "3999 0.09770041704177856\n",
      "4099 0.09845547378063202\n",
      "4199 0.06945441663265228\n",
      "4299 0.05251624435186386\n",
      "4399 0.12152484804391861\n",
      "4499 0.03774316981434822\n",
      "4599 0.053325776010751724\n",
      "4699 0.03331002965569496\n",
      "4799 0.07783810049295425\n",
      "4899 0.07228370755910873\n",
      "4999 0.03468373045325279\n",
      "5099 0.0224209725856781\n",
      "5199 0.040539536625146866\n",
      "5299 0.014377975836396217\n",
      "5399 0.11194296181201935\n",
      "5499 0.0675540342926979\n",
      "5599 0.02023196965456009\n",
      "5699 0.01253726426512003\n",
      "5799 0.05844007432460785\n",
      "5899 0.03474307060241699\n",
      "5999 0.0521434023976326\n",
      "6099 0.0073683480732142925\n",
      "6199 0.03309187665581703\n",
      "6299 0.08233308792114258\n",
      "6399 0.011548017151653767\n",
      "6499 0.009080523625016212\n",
      "6599 0.07414162158966064\n",
      "6699 0.021839842200279236\n",
      "6799 0.021166732534766197\n",
      "6899 0.02316630445420742\n",
      "6999 0.029238944873213768\n",
      "7099 0.11033026874065399\n",
      "7199 0.04742228612303734\n",
      "7299 0.017206383869051933\n",
      "7399 0.029704637825489044\n",
      "7499 0.013647298328578472\n",
      "7599 0.02871903032064438\n",
      "7699 0.009383037686347961\n",
      "7799 0.047628093510866165\n",
      "7899 0.008489648811519146\n",
      "7999 0.08637929707765579\n",
      "8099 0.057150699198246\n",
      "8199 0.11573222279548645\n",
      "8299 0.0063615585677325726\n",
      "8399 0.03259596973657608\n",
      "8499 0.0316225029528141\n",
      "8599 0.017460675910115242\n",
      "8699 0.023342974483966827\n",
      "8799 0.013887886889278889\n",
      "8899 0.025740154087543488\n",
      "8999 0.13505397737026215\n",
      "9099 0.014634817838668823\n",
      "9199 0.021070552989840508\n",
      "9299 0.005340686999261379\n",
      "9399 0.011820778250694275\n",
      "9499 0.010517281480133533\n",
      "9599 0.0069337813183665276\n",
      "9699 0.042253486812114716\n",
      "9799 0.21352599561214447\n",
      "9899 0.0076366690918803215\n",
      "9999 0.014356711879372597\n"
     ]
    }
   ],
   "source": [
    "model.train(MNIST_train.data, MNIST_train.targets, batch_size=64, num_training_steps=10000)"
   ]
  },
  {
   "cell_type": "code",
   "execution_count": 117,
   "metadata": {},
   "outputs": [
    {
     "name": "stdout",
     "output_type": "stream",
     "text": [
      "tensor(0.9960)\n"
     ]
    }
   ],
   "source": [
    "model.check_accuracy(MNIST_train.data, MNIST_train.targets)"
   ]
  },
  {
   "cell_type": "markdown",
   "metadata": {},
   "source": [
    "For you to do load test set and check its accuracy"
   ]
  },
  {
   "cell_type": "code",
   "execution_count": null,
   "metadata": {},
   "outputs": [],
   "source": []
  }
 ],
 "metadata": {
  "kernelspec": {
   "display_name": "Python 3.7.4 64-bit ('machine_learning': venv)",
   "language": "python",
   "name": "python37464bitmachinelearningvenvc063955b679f4234bbe3c009fbf73fd3"
  },
  "language_info": {
   "codemirror_mode": {
    "name": "ipython",
    "version": 3
   },
   "file_extension": ".py",
   "mimetype": "text/x-python",
   "name": "python",
   "nbconvert_exporter": "python",
   "pygments_lexer": "ipython3",
   "version": "3.7.4"
  }
 },
 "nbformat": 4,
 "nbformat_minor": 4
}
