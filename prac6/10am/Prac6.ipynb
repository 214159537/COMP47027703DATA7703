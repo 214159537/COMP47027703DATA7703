{
 "cells": [
  {
   "cell_type": "code",
   "execution_count": 3,
   "metadata": {},
   "outputs": [
    {
     "name": "stdout",
     "output_type": "stream",
     "text": [
      "Looking in links: https://download.pytorch.org/whl/torch_stable.html\n",
      "Collecting torch===1.4.0\n",
      "  Downloading https://download.pytorch.org/whl/cu101/torch-1.4.0-cp37-cp37m-win_amd64.whl (796.8 MB)\n",
      "Collecting torchvision===0.5.0\n",
      "  Downloading torchvision-0.5.0-cp37-cp37m-win_amd64.whl (1.2 MB)\n",
      "Requirement already satisfied: six in c:\\users\\llewyn\\code\\comp47027703data7703\\machine_learning\\lib\\site-packages (from torchvision===0.5.0) (1.14.0)\n",
      "Requirement already satisfied: numpy in c:\\users\\llewyn\\code\\comp47027703data7703\\machine_learning\\lib\\site-packages (from torchvision===0.5.0) (1.18.1)\n",
      "Collecting pillow>=4.1.1\n",
      "  Downloading Pillow-7.1.1-cp37-cp37m-win_amd64.whl (2.0 MB)\n",
      "Installing collected packages: torch, pillow, torchvision\n",
      "Successfully installed pillow-7.1.1 torch-1.4.0 torchvision-0.5.0\n"
     ]
    }
   ],
   "source": [
    "!pip install torch===1.4.0 torchvision===0.5.0 -f https://download.pytorch.org/whl/torch_stable.html"
   ]
  },
  {
   "cell_type": "markdown",
   "metadata": {},
   "source": [
    "Q1 - make a neural net and make run it on a dataset"
   ]
  },
  {
   "cell_type": "code",
   "execution_count": 95,
   "metadata": {},
   "outputs": [],
   "source": [
    "# -*- coding: utf-8 -*-\n",
    "import torch\n",
    "\n",
    "\n",
    "class TwoLayerNet(torch.nn.Module):\n",
    "    def __init__(self, D_in, H, D_out):\n",
    "        \"\"\"\n",
    "        In the constructor we instantiate two nn.Linear modules and assign them as\n",
    "        member variables.\n",
    "        \"\"\"\n",
    "        super(TwoLayerNet, self).__init__()\n",
    "        self.linear1 = torch.nn.Linear(D_in, H)\n",
    "        self.linear2 = torch.nn.Linear(H, D_out)\n",
    "        self.loss = torch.nn.CrossEntropyLoss(reduction='sum')\n",
    "        self.optimizer = torch.optim.SGD(model.parameters(), lr=1e-3)\n",
    "\n",
    "    def forward(self, x):\n",
    "        \"\"\"\n",
    "        In the forward function we accept a Tensor of input data and we must return\n",
    "        a Tensor of output data. We can use Modules defined in the constructor as\n",
    "        well as arbitrary operators on Tensors.\n",
    "        \"\"\"\n",
    "        h_relu = self.linear1(x).clamp(min=0)\n",
    "        y_pred = self.linear2(h_relu)\n",
    "        return y_pred\n",
    "    \n",
    "\n",
    "\n",
    "\n",
    "# N is batch size; D_in is input dimension;\n",
    "# H is hidden dimension; D_out is output dimension.\n",
    "# N, D_in, H, D_out = 64, 1000, 100, 10\n",
    "\n",
    "# Create random Tensors to hold inputs and outputs\n",
    "# x = torch.randn(N, D_in)\n",
    "# y = torch.randn(N, D_out)\n",
    "\n",
    "# Construct our model by instantiating the class defined above\n",
    "# model = TwoLayerNet(D_in, H, D_out)\n",
    "\n",
    "# Construct our loss function and an Optimizer. The call to model.parameters()\n",
    "# in the SGD constructor will contain the learnable parameters of the two\n",
    "# nn.Linear modules which are members of the model.\n"
   ]
  },
  {
   "cell_type": "code",
   "execution_count": 5,
   "metadata": {},
   "outputs": [],
   "source": [
    "import pandas as pd"
   ]
  },
  {
   "cell_type": "code",
   "execution_count": 12,
   "metadata": {},
   "outputs": [],
   "source": [
    "data = pd.read_csv('BreastCancerTrain.csv', header=None)"
   ]
  },
  {
   "cell_type": "code",
   "execution_count": 23,
   "metadata": {},
   "outputs": [],
   "source": [
    "X = data.iloc[:,0:-1]"
   ]
  },
  {
   "cell_type": "code",
   "execution_count": 38,
   "metadata": {},
   "outputs": [],
   "source": [
    "Y = data.iloc[:,-1]"
   ]
  },
  {
   "cell_type": "code",
   "execution_count": 28,
   "metadata": {},
   "outputs": [],
   "source": [
    "D_in = X.shape[1]"
   ]
  },
  {
   "cell_type": "code",
   "execution_count": 31,
   "metadata": {},
   "outputs": [],
   "source": [
    "D_out = len(pd.unique(Y))"
   ]
  },
  {
   "cell_type": "code",
   "execution_count": 108,
   "metadata": {},
   "outputs": [],
   "source": [
    "H = 200"
   ]
  },
  {
   "cell_type": "code",
   "execution_count": 109,
   "metadata": {},
   "outputs": [],
   "source": [
    "model = TwoLayerNet(D_in, H, D_out)"
   ]
  },
  {
   "cell_type": "code",
   "execution_count": 110,
   "metadata": {},
   "outputs": [
    {
     "name": "stdout",
     "output_type": "stream",
     "text": [
      "99 54.77817916870117\n",
      "199 58.02121353149414\n",
      "299 57.28565979003906\n",
      "399 55.201045989990234\n",
      "499 50.46632385253906\n",
      "599 55.58230972290039\n",
      "699 52.088871002197266\n",
      "799 49.34914016723633\n",
      "899 53.42759323120117\n",
      "999 56.765106201171875\n",
      "1099 53.64525604248047\n",
      "1199 47.53013610839844\n",
      "1299 44.258445739746094\n",
      "1399 47.60482406616211\n",
      "1499 52.18941879272461\n",
      "1599 50.74026870727539\n",
      "1699 49.9868278503418\n",
      "1799 54.37403106689453\n",
      "1899 50.851131439208984\n",
      "1999 47.32096862792969\n",
      "2099 50.83230972290039\n",
      "2199 57.996517181396484\n",
      "2299 57.37910842895508\n",
      "2399 46.1192626953125\n",
      "2499 54.414039611816406\n",
      "2599 54.525146484375\n",
      "2699 47.798133850097656\n",
      "2799 52.43289566040039\n",
      "2899 50.54432678222656\n",
      "2999 51.8719596862793\n",
      "3099 53.153968811035156\n",
      "3199 53.6134033203125\n",
      "3299 56.42311096191406\n",
      "3399 52.783145904541016\n",
      "3499 47.32718276977539\n",
      "3599 54.505455017089844\n",
      "3699 54.85740661621094\n",
      "3799 50.22853469848633\n",
      "3899 46.23911666870117\n",
      "3999 49.5628776550293\n",
      "4099 52.246639251708984\n",
      "4199 53.38294982910156\n",
      "4299 47.10334396362305\n",
      "4399 50.1881217956543\n",
      "4499 49.94599914550781\n",
      "4599 46.65497589111328\n",
      "4699 50.02400207519531\n",
      "4799 55.520164489746094\n",
      "4899 59.00835418701172\n",
      "4999 50.28171157836914\n",
      "5099 53.96509552001953\n",
      "5199 50.68368148803711\n",
      "5299 50.08012771606445\n",
      "5399 52.20368194580078\n",
      "5499 54.441322326660156\n",
      "5599 53.0018310546875\n",
      "5699 51.48332214355469\n",
      "5799 50.68308639526367\n",
      "5899 49.224449157714844\n",
      "5999 44.7389030456543\n",
      "6099 46.0745849609375\n",
      "6199 49.81644058227539\n",
      "6299 56.02809524536133\n",
      "6399 59.68642807006836\n",
      "6499 47.27892303466797\n",
      "6599 52.953224182128906\n",
      "6699 54.309993743896484\n",
      "6799 49.54231262207031\n",
      "6899 46.69327926635742\n",
      "6999 51.17076110839844\n",
      "7099 51.250572204589844\n",
      "7199 48.922645568847656\n",
      "7299 58.38306427001953\n",
      "7399 52.793704986572266\n",
      "7499 49.246028900146484\n",
      "7599 49.483524322509766\n",
      "7699 53.087093353271484\n",
      "7799 49.950252532958984\n",
      "7899 49.3871955871582\n",
      "7999 50.300079345703125\n",
      "8099 48.42145919799805\n",
      "8199 55.746116638183594\n",
      "8299 47.19670104980469\n",
      "8399 50.66893005371094\n",
      "8499 47.11145782470703\n",
      "8599 55.5190315246582\n",
      "8699 53.855289459228516\n",
      "8799 46.15146255493164\n",
      "8899 49.6048698425293\n",
      "8999 56.777103424072266\n",
      "9099 52.14748001098633\n",
      "9199 50.965576171875\n",
      "9299 50.40964126586914\n",
      "9399 54.796653747558594\n",
      "9499 43.81996536254883\n",
      "9599 47.24570083618164\n",
      "9699 50.522342681884766\n",
      "9799 50.357975006103516\n",
      "9899 49.365325927734375\n",
      "9999 47.44288635253906\n"
     ]
    }
   ],
   "source": [
    "for t in range(10000):\n",
    "    # Forward pass: compute predicted y by passing x to the model.\n",
    "    x_y = data.sample(64)\n",
    "    x = torch.tensor(x_y.iloc[:,:-1].values, dtype = torch.float)\n",
    "    y = torch.tensor(x_y.iloc[:,-1].values, dtype = torch.long)\n",
    "    \n",
    "    y_pred = model(x)\n",
    "\n",
    "    # Compute and print loss.\n",
    "    loss = model.loss(y_pred, y)\n",
    "    if t % 100 == 99:\n",
    "        print(t, loss.item())\n",
    "\n",
    "    # Before the backward pass, use the optimizer object to zero all of the\n",
    "    # gradients for the variables it will update (which are the learnable\n",
    "    # weights of the model). This is because by default, gradients are\n",
    "    # accumulated in buffers( i.e, not overwritten) whenever .backward()\n",
    "    # is called. Checkout docs of torch.autograd.backward for more details.\n",
    "    model.optimizer.zero_grad()\n",
    "\n",
    "    # Backward pass: compute gradient of the loss with respect to model\n",
    "    # parameters\n",
    "    loss.backward()\n",
    "\n",
    "    # Calling the step function on an Optimizer makes an update to its\n",
    "    # parameters\n",
    "    model.optimizer.step()"
   ]
  },
  {
   "cell_type": "code",
   "execution_count": 111,
   "metadata": {},
   "outputs": [],
   "source": [
    "y_pred = model(torch.tensor(X.values, dtype=torch.float))"
   ]
  },
  {
   "cell_type": "code",
   "execution_count": 112,
   "metadata": {},
   "outputs": [],
   "source": [
    "import numpy as np\n",
    "argmax = np.argmax(y_pred.detach().numpy(), axis=1)"
   ]
  },
  {
   "cell_type": "code",
   "execution_count": 113,
   "metadata": {},
   "outputs": [
    {
     "data": {
      "text/plain": [
       "0.7262247838616714"
      ]
     },
     "execution_count": 113,
     "metadata": {},
     "output_type": "execute_result"
    }
   ],
   "source": [
    "(sum(torch.argmax(y_pred, axis=1).numpy()==Y))/len(Y)"
   ]
  },
  {
   "cell_type": "code",
   "execution_count": 93,
   "metadata": {},
   "outputs": [],
   "source": [
    "values, indices = y_pred.max(1)"
   ]
  },
  {
   "cell_type": "code",
   "execution_count": 94,
   "metadata": {},
   "outputs": [
    {
     "data": {
      "text/plain": [
       "0.35446685878962536"
      ]
     },
     "execution_count": 94,
     "metadata": {},
     "output_type": "execute_result"
    }
   ],
   "source": [
    "(sum(indices.numpy()==Y))/len(Y)"
   ]
  },
  {
   "cell_type": "markdown",
   "metadata": {},
   "source": [
    "Q2 - vary the learning rate"
   ]
  },
  {
   "cell_type": "code",
   "execution_count": null,
   "metadata": {},
   "outputs": [],
   "source": [
    "class MultiLayerNet(torch.nn.Module):\n",
    "    def __init__(self, D_in, D_out, H = [200,200], lr=1e-3):\n",
    "        \"\"\"\n",
    "        In the constructor we instantiate two nn.Linear modules and assign them as\n",
    "        member variables.\n",
    "        \"\"\"\n",
    "        super().__init__()\n",
    "        self._layers = []\n",
    "        self._layers.append(torch.nn.Linear(D_in, H[0]))\n",
    "        for i,_ in enumerate(H[1:]):\n",
    "            self._layers.append(torch.nn.Linear(H[i-1], H[i]))\n",
    "        self._layers.append(torch.nn.Linear(H[-1], D_out))\n",
    "        self.loss = torch.nn.CrossEntropyLoss(reduction='sum')\n",
    "        self.optimizer = torch.optim.SGD(model.parameters(), lr=1e-3)\n",
    "\n",
    "    def forward(self, x):\n",
    "        \"\"\"\n",
    "        In the forward function we accept a Tensor of input data and we must return\n",
    "        a Tensor of output data. We can use Modules defined in the constructor as\n",
    "        well as arbitrary operators on Tensors.\n",
    "        \"\"\"\n",
    "        for layer in self._layers[:-1]:\n",
    "            x = layer(x).clamp(min=0)\n",
    "        return self._layers[-1](x)\n",
    "    \n",
    "    def train(self, data, batch_size, num_batches):\n",
    "        pass\n",
    "        \n",
    "        "
   ]
  },
  {
   "cell_type": "code",
   "execution_count": 114,
   "metadata": {},
   "outputs": [],
   "source": [
    "import matplotlib.pyplot as plt"
   ]
  },
  {
   "cell_type": "code",
   "execution_count": 115,
   "metadata": {},
   "outputs": [],
   "source": [
    "x = np.linspace(-10,10)"
   ]
  },
  {
   "cell_type": "code",
   "execution_count": 117,
   "metadata": {},
   "outputs": [],
   "source": [
    "y = np.maximum(0,x)"
   ]
  },
  {
   "cell_type": "code",
   "execution_count": 118,
   "metadata": {},
   "outputs": [
    {
     "data": {
      "text/plain": [
       "[<matplotlib.lines.Line2D at 0x269c1d71e08>]"
      ]
     },
     "execution_count": 118,
     "metadata": {},
     "output_type": "execute_result"
    },
    {
     "data": {
      "image/png": "[encoded data removed]",
      "text/plain": [
       "<Figure size 432x288 with 1 Axes>"
      ]
     },
     "metadata": {
      "needs_background": "light"
     },
     "output_type": "display_data"
    }
   ],
   "source": [
    "plt.plot(x,y)"
   ]
  },
  {
   "cell_type": "code",
   "execution_count": 119,
   "metadata": {},
   "outputs": [
    {
     "data": {
      "text/plain": [
       "[<matplotlib.lines.Line2D at 0x269c1cc2848>]"
      ]
     },
     "execution_count": 119,
     "metadata": {},
     "output_type": "execute_result"
    },
    {
     "data": {
      "image/png": "[encoded data removed]",
      "text/plain": [
       "<Figure size 432x288 with 1 Axes>"
      ]
     },
     "metadata": {
      "needs_background": "light"
     },
     "output_type": "display_data"
    }
   ],
   "source": [
    "plt.plot(x,np.tanh(x))"
   ]
  },
  {
   "cell_type": "code",
   "execution_count": null,
   "metadata": {},
   "outputs": [],
   "source": []
  },
  {
   "cell_type": "markdown",
   "metadata": {},
   "source": [
    "Q3 - Train an MLP on MNIST :'("
   ]
  },
  {
   "cell_type": "code",
   "execution_count": null,
   "metadata": {},
   "outputs": [],
   "source": []
  },
  {
   "cell_type": "code",
   "execution_count": null,
   "metadata": {},
   "outputs": [],
   "source": []
  },
  {
   "cell_type": "code",
   "execution_count": null,
   "metadata": {},
   "outputs": [],
   "source": []
  },
  {
   "cell_type": "code",
   "execution_count": null,
   "metadata": {},
   "outputs": [],
   "source": []
  },
  {
   "cell_type": "code",
   "execution_count": null,
   "metadata": {},
   "outputs": [],
   "source": []
  },
  {
   "cell_type": "markdown",
   "metadata": {},
   "source": [
    "Q4 - Visualise the weight matrix of the first row"
   ]
  },
  {
   "cell_type": "code",
   "execution_count": null,
   "metadata": {},
   "outputs": [],
   "source": []
  },
  {
   "cell_type": "code",
   "execution_count": null,
   "metadata": {},
   "outputs": [],
   "source": []
  },
  {
   "cell_type": "code",
   "execution_count": null,
   "metadata": {},
   "outputs": [],
   "source": []
  },
  {
   "cell_type": "code",
   "execution_count": null,
   "metadata": {},
   "outputs": [],
   "source": []
  },
  {
   "cell_type": "code",
   "execution_count": null,
   "metadata": {},
   "outputs": [],
   "source": []
  }
 ],
 "metadata": {
  "kernelspec": {
   "display_name": "Python 3",
   "language": "python",
   "name": "python3"
  },
  "language_info": {
   "codemirror_mode": {
    "name": "ipython",
    "version": 3
   },
   "file_extension": ".py",
   "mimetype": "text/x-python",
   "name": "python",
   "nbconvert_exporter": "python",
   "pygments_lexer": "ipython3",
   "version": "3.7.4"
  }
 },
 "nbformat": 4,
 "nbformat_minor": 4
}
